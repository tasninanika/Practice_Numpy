{
 "cells": [
  {
   "cell_type": "markdown",
   "id": "a15bd75a-b9b1-4a18-8d74-fb587e4415d0",
   "metadata": {},
   "source": [
    "# Generate `[1.,1.,1.,1.,1.]` using NumPy built-in function?"
   ]
  },
  {
   "cell_type": "code",
   "execution_count": null,
   "id": "d972a6c8-7867-4502-acef-7f1825a50a75",
   "metadata": {},
   "outputs": [],
   "source": [
    "import numpy as np"
   ]
  },
  {
   "cell_type": "code",
   "execution_count": null,
   "id": "d36a1c9f-0f61-40cd-a45a-52d6d06bd27c",
   "metadata": {},
   "outputs": [],
   "source": [
    "one_array = np.ones(5)"
   ]
  }
 ],
 "metadata": {
  "kernelspec": {
   "display_name": "Python 3 (ipykernel)",
   "language": "python",
   "name": "python3"
  },
  "language_info": {
   "codemirror_mode": {
    "name": "ipython",
    "version": 3
   },
   "file_extension": ".py",
   "mimetype": "text/x-python",
   "name": "python",
   "nbconvert_exporter": "python",
   "pygments_lexer": "ipython3",
   "version": "3.12.7"
  }
 },
 "nbformat": 4,
 "nbformat_minor": 5
}
