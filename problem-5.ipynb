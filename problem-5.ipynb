{
 "cells": [
  {
   "cell_type": "markdown",
   "id": "a15bd75a-b9b1-4a18-8d74-fb587e4415d0",
   "metadata": {},
   "source": [
    "# Generate `[1.,1.,1.,1.,1.]` using NumPy built-in function?"
   ]
  },
  {
   "cell_type": "code",
   "execution_count": 2,
   "id": "d972a6c8-7867-4502-acef-7f1825a50a75",
   "metadata": {},
   "outputs": [],
   "source": [
    "import numpy as np"
   ]
  },
  {
   "cell_type": "code",
   "execution_count": 3,
   "id": "d36a1c9f-0f61-40cd-a45a-52d6d06bd27c",
   "metadata": {},
   "outputs": [],
   "source": [
    "one_array = np.ones(5)"
   ]
  },
  {
   "cell_type": "code",
   "execution_count": 6,
   "id": "69b62b10-4b2f-4207-a43c-82a9dcffe1ff",
   "metadata": {},
   "outputs": [
    {
     "data": {
      "text/plain": [
       "array([1., 1., 1., 1., 1.])"
      ]
     },
     "execution_count": 6,
     "metadata": {},
     "output_type": "execute_result"
    }
   ],
   "source": [
    "one_array"
   ]
  }
 ],
 "metadata": {
  "kernelspec": {
   "display_name": "Python 3 (ipykernel)",
   "language": "python",
   "name": "python3"
  },
  "language_info": {
   "codemirror_mode": {
    "name": "ipython",
    "version": 3
   },
   "file_extension": ".py",
   "mimetype": "text/x-python",
   "name": "python",
   "nbconvert_exporter": "python",
   "pygments_lexer": "ipython3",
   "version": "3.12.7"
  }
 },
 "nbformat": 4,
 "nbformat_minor": 5
}
