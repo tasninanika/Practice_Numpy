{
 "cells": [
  {
   "cell_type": "code",
   "execution_count": null,
   "id": "081229e5-df11-434b-8a78-0691dbc7a407",
   "metadata": {},
   "outputs": [],
   "source": []
  }
 ],
 "metadata": {
  "kernelspec": {
   "display_name": "",
   "name": ""
  },
  "language_info": {
   "name": ""
  }
 },
 "nbformat": 4,
 "nbformat_minor": 5
}
