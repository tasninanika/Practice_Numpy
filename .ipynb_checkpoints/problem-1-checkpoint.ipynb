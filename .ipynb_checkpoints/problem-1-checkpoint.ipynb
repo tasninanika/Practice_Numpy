{
 "cells": [
  {
   "cell_type": "markdown",
   "id": "cdc49a3c-e85b-4bbd-a765-70e02cd82921",
   "metadata": {},
   "source": [
    "# How to import Numpy library?\n"
   ]
  },
  {
   "cell_type": "code",
   "execution_count": 1,
   "id": "3b9526e9-e128-418a-b075-7a7458ec3f37",
   "metadata": {},
   "outputs": [],
   "source": [
    "import numpy as np"
   ]
  },
  {
   "cell_type": "code",
   "execution_count": null,
   "id": "defe8f22-1bfd-41e3-b698-add97e4c5808",
   "metadata": {},
   "outputs": [],
   "source": []
  },
  {
   "cell_type": "markdown",
   "id": "e6506212-5911-410e-9071-c70a936089c9",
   "metadata": {},
   "source": [
    "# Convert the given Python list into Numpy array and check its data type.\n",
    "# list_1 = [1,2,3,4,5]"
   ]
  },
  {
   "cell_type": "code",
   "execution_count": 4,
   "id": "22236b3b-35a6-4d84-a49c-58c1284036e3",
   "metadata": {},
   "outputs": [],
   "source": [
    "list_1 = [1,2,3,4,5]"
   ]
  },
  {
   "cell_type": "code",
   "execution_count": 5,
   "id": "144855af-edd7-4111-bdbb-8b9da0cfeec0",
   "metadata": {},
   "outputs": [
    {
     "ename": "NameError",
     "evalue": "name 'list1' is not defined",
     "output_type": "error",
     "traceback": [
      "\u001b[1;31m---------------------------------------------------------------------------\u001b[0m",
      "\u001b[1;31mNameError\u001b[0m                                 Traceback (most recent call last)",
      "Cell \u001b[1;32mIn[5], line 1\u001b[0m\n\u001b[1;32m----> 1\u001b[0m np\u001b[38;5;241m.\u001b[39marray(list1)\n",
      "\u001b[1;31mNameError\u001b[0m: name 'list1' is not defined"
     ]
    }
   ],
   "source": [
    "np.array(list_1)"
   ]
  },
  {
   "cell_type": "code",
   "execution_count": null,
   "id": "375a0401-a070-493f-9ddf-d14228887f34",
   "metadata": {},
   "outputs": [],
   "source": []
  }
 ],
 "metadata": {
  "kernelspec": {
   "display_name": "Python 3 (ipykernel)",
   "language": "python",
   "name": "python3"
  },
  "language_info": {
   "codemirror_mode": {
    "name": "ipython",
    "version": 3
   },
   "file_extension": ".py",
   "mimetype": "text/x-python",
   "name": "python",
   "nbconvert_exporter": "python",
   "pygments_lexer": "ipython3",
   "version": "3.12.7"
  }
 },
 "nbformat": 4,
 "nbformat_minor": 5
}
