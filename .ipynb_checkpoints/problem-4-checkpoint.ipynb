{
 "cells": [
  {
   "cell_type": "markdown",
   "id": "9d7784fd-620a-4d44-b3b2-5281ad0c2a73",
   "metadata": {},
   "source": [
    "# Generate the following `matrix`\n",
    "# array\n",
    "# ([[0., 0., 0., 0.],\n",
    "# [0., 0., 0., 0.],\n",
    "# [0., 0., 0., 0.]])"
   ]
  },
  {
   "cell_type": "code",
   "execution_count": 1,
   "id": "c23c2345-6e2b-44b3-92f2-724f6fed8da0",
   "metadata": {},
   "outputs": [],
   "source": [
    "import numpy as np"
   ]
  },
  {
   "cell_type": "code",
   "execution_count": 2,
   "id": "68e40e22-cd5c-4b91-bed6-ccbf0f5d527c",
   "metadata": {},
   "outputs": [],
   "source": [
    "zero_matrix = np.zeros((3,4))"
   ]
  },
  {
   "cell_type": "code",
   "execution_count": 3,
   "id": "d468bf6c-1fb7-43c1-b63c-beb43ff23f89",
   "metadata": {},
   "outputs": [
    {
     "data": {
      "text/plain": [
       "array([[0., 0., 0., 0.],\n",
       "       [0., 0., 0., 0.],\n",
       "       [0., 0., 0., 0.]])"
      ]
     },
     "execution_count": 3,
     "metadata": {},
     "output_type": "execute_result"
    }
   ],
   "source": [
    "zero_matrix"
   ]
  }
 ],
 "metadata": {
  "kernelspec": {
   "display_name": "Python 3 (ipykernel)",
   "language": "python",
   "name": "python3"
  },
  "language_info": {
   "codemirror_mode": {
    "name": "ipython",
    "version": 3
   },
   "file_extension": ".py",
   "mimetype": "text/x-python",
   "name": "python",
   "nbconvert_exporter": "python",
   "pygments_lexer": "ipython3",
   "version": "3.12.7"
  }
 },
 "nbformat": 4,
 "nbformat_minor": 5
}
