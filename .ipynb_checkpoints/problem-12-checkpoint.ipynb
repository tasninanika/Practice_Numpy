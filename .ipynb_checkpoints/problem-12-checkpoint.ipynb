{
 "cells": [
  {
   "cell_type": "markdown",
   "id": "6fa6cd20-290c-43d9-9796-ab77a1e2b76c",
   "metadata": {},
   "source": [
    "# How to generate a single random integer number using NumPy built-in function?"
   ]
  },
  {
   "cell_type": "code",
   "execution_count": 4,
   "id": "de2b9c57-9955-40d4-af5a-adefdb7d331a",
   "metadata": {},
   "outputs": [],
   "source": [
    "import numpy as np"
   ]
  },
  {
   "cell_type": "code",
   "execution_count": 5,
   "id": "3a9542fe-83e5-4f6f-a52e-d3cbd1ab6e17",
   "metadata": {},
   "outputs": [
    {
     "name": "stdout",
     "output_type": "stream",
     "text": [
      "16\n"
     ]
    }
   ],
   "source": [
    "random_integer = np.random.randint(10, 20)\n",
    "print(random_integer)"
   ]
  },
  {
   "cell_type": "markdown",
   "id": "a690d1b3-3fdb-4dae-a1b8-bf1041ef121d",
   "metadata": {},
   "source": [
    "# Write a code to generate a 7x5 matrix of 35 random numbers? use rand here\n",
    "## Notice, there are no ( ) in the output matrix!"
   ]
  },
  {
   "cell_type": "code",
   "execution_count": 6,
   "id": "06551e27-672c-41d8-9727-814868fb4346",
   "metadata": {},
   "outputs": [
    {
     "data": {
      "text/plain": [
       "array([[0.96744834, 0.08752514, 0.4548    , 0.88779417, 0.19226311],\n",
       "       [0.71604041, 0.76205712, 0.72021329, 0.75820953, 0.87436896],\n",
       "       [0.2099304 , 0.14423115, 0.06835618, 0.0616353 , 0.51227545],\n",
       "       [0.63147195, 0.82159734, 0.595343  , 0.69004013, 0.39351763],\n",
       "       [0.33772384, 0.92059059, 0.6534811 , 0.62755564, 0.53583558],\n",
       "       [0.69710804, 0.30021409, 0.31919525, 0.98249139, 0.41858829],\n",
       "       [0.11109494, 0.54033373, 0.85255559, 0.53691701, 0.31147395]])"
      ]
     },
     "execution_count": 6,
     "metadata": {},
     "output_type": "execute_result"
    }
   ],
   "source": [
    "random_number_matrix = np.random.rand(7, 5)\n",
    "random_number_matrix.reshape((7,5))"
   ]
  },
  {
   "cell_type": "code",
   "execution_count": 7,
   "id": "717f75ee-8340-4182-9ef3-2ccbfb696c31",
   "metadata": {},
   "outputs": [
    {
     "name": "stdout",
     "output_type": "stream",
     "text": [
      "[[0.96744834 0.08752514 0.4548     0.88779417 0.19226311]\n",
      " [0.71604041 0.76205712 0.72021329 0.75820953 0.87436896]\n",
      " [0.2099304  0.14423115 0.06835618 0.0616353  0.51227545]\n",
      " [0.63147195 0.82159734 0.595343   0.69004013 0.39351763]\n",
      " [0.33772384 0.92059059 0.6534811  0.62755564 0.53583558]\n",
      " [0.69710804 0.30021409 0.31919525 0.98249139 0.41858829]\n",
      " [0.11109494 0.54033373 0.85255559 0.53691701 0.31147395]]\n"
     ]
    }
   ],
   "source": [
    "print(random_number_matrix)"
   ]
  },
  {
   "cell_type": "markdown",
   "id": "2fea65c4-741f-4020-9eb9-f4884981870c",
   "metadata": {},
   "source": [
    "# Generate the following matrix using NumPy's built-in method for identity matrix."
   ]
  },
  {
   "cell_type": "code",
   "execution_count": 9,
   "id": "61cb3b16-86b0-469a-af6d-34e567111561",
   "metadata": {},
   "outputs": [],
   "source": [
    "identity_matrix = 5 * np.eye(5)"
   ]
  },
  {
   "cell_type": "code",
   "execution_count": 10,
   "id": "242adc36-3e96-4f75-a6b7-64ab05a88b3a",
   "metadata": {},
   "outputs": [
    {
     "data": {
      "text/plain": [
       "array([[5., 0., 0., 0., 0.],\n",
       "       [0., 5., 0., 0., 0.],\n",
       "       [0., 0., 5., 0., 0.],\n",
       "       [0., 0., 0., 5., 0.],\n",
       "       [0., 0., 0., 0., 5.]])"
      ]
     },
     "execution_count": 10,
     "metadata": {},
     "output_type": "execute_result"
    }
   ],
   "source": [
    "identity_matrix"
   ]
  }
 ],
 "metadata": {
  "kernelspec": {
   "display_name": "Python 3 (ipykernel)",
   "language": "python",
   "name": "python3"
  },
  "language_info": {
   "codemirror_mode": {
    "name": "ipython",
    "version": 3
   },
   "file_extension": ".py",
   "mimetype": "text/x-python",
   "name": "python",
   "nbconvert_exporter": "python",
   "pygments_lexer": "ipython3",
   "version": "3.12.7"
  }
 },
 "nbformat": 4,
 "nbformat_minor": 5
}
