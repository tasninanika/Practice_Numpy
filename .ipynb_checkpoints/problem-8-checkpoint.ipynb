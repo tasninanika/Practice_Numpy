{
 "cells": [
  {
   "cell_type": "markdown",
   "id": "3f4b7154-ffcf-4493-b1e3-cc04760920a4",
   "metadata": {},
   "source": [
    "# Generate an array of 10 linearly spaced points between 0 and 1. "
   ]
  },
  {
   "cell_type": "code",
   "execution_count": 2,
   "id": "f9c160ce-1588-4a0c-be41-9174b87a2819",
   "metadata": {},
   "outputs": [],
   "source": [
    "import numpy as np"
   ]
  },
  {
   "cell_type": "code",
   "execution_count": 3,
   "id": "38f7c7cd-21eb-4497-a803-473ed49ab235",
   "metadata": {},
   "outputs": [],
   "source": [
    "array = np.linspace(0, 1, 10)"
   ]
  },
  {
   "cell_type": "code",
   "execution_count": 4,
   "id": "6909fadc-c707-4ffc-897c-b5ac91fe3a40",
   "metadata": {},
   "outputs": [],
   "source": [
    "step_size = array[1] - array[0]"
   ]
  },
  {
   "cell_type": "code",
   "execution_count": 6,
   "id": "c46db66d-68ff-49d0-985d-42a94d19a3f9",
   "metadata": {},
   "outputs": [
    {
     "name": "stdout",
     "output_type": "stream",
     "text": [
      "[0.         0.11111111 0.22222222 0.33333333 0.44444444 0.55555556\n",
      " 0.66666667 0.77777778 0.88888889 1.        ]\n",
      "0.1111111111111111\n"
     ]
    }
   ],
   "source": [
    "print(array)\n",
    "print(step_size)"
   ]
  }
 ],
 "metadata": {
  "kernelspec": {
   "display_name": "Python 3 (ipykernel)",
   "language": "python",
   "name": "python3"
  },
  "language_info": {
   "codemirror_mode": {
    "name": "ipython",
    "version": 3
   },
   "file_extension": ".py",
   "mimetype": "text/x-python",
   "name": "python",
   "nbconvert_exporter": "python",
   "pygments_lexer": "ipython3",
   "version": "3.12.7"
  }
 },
 "nbformat": 4,
 "nbformat_minor": 5
}
