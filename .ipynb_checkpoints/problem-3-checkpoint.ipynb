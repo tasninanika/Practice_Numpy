{
 "cells": [
  {
   "cell_type": "markdown",
   "id": "af37084b-274d-4cb2-b849-1f243bd5b18b",
   "metadata": {},
   "source": [
    "# Generate an `array of \"5\" zeros`"
   ]
  },
  {
   "cell_type": "code",
   "execution_count": 1,
   "id": "c7e4be3d-2dc6-4bea-9a3d-884ed72836d8",
   "metadata": {},
   "outputs": [],
   "source": [
    "import numpy as np"
   ]
  },
  {
   "cell_type": "code",
   "execution_count": 2,
   "id": "a6f4fcb6-8eca-4e24-bfff-e3bc839c7fef",
   "metadata": {},
   "outputs": [],
   "source": [
    "zero_array = np.zeros(5) "
   ]
  },
  {
   "cell_type": "code",
   "execution_count": 3,
   "id": "bf36d027-b949-46e8-b9a3-7ce1fab66032",
   "metadata": {},
   "outputs": [
    {
     "data": {
      "text/plain": [
       "array([0., 0., 0., 0., 0.])"
      ]
     },
     "execution_count": 3,
     "metadata": {},
     "output_type": "execute_result"
    }
   ],
   "source": [
    "zero_array"
   ]
  }
 ],
 "metadata": {
  "kernelspec": {
   "display_name": "Python 3 (ipykernel)",
   "language": "python",
   "name": "python3"
  },
  "language_info": {
   "codemirror_mode": {
    "name": "ipython",
    "version": 3
   },
   "file_extension": ".py",
   "mimetype": "text/x-python",
   "name": "python",
   "nbconvert_exporter": "python",
   "pygments_lexer": "ipython3",
   "version": "3.12.7"
  }
 },
 "nbformat": 4,
 "nbformat_minor": 5
}
