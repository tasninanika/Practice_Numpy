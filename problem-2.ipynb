{
 "cells": [
  {
   "cell_type": "markdown",
   "id": "3a273aa4-3189-4aa3-84ad-79af3a991b46",
   "metadata": {},
   "source": [
    "# Generate `array [0,1,2,3,4,5]` using NumPy built-in function, `arange()`"
   ]
  },
  {
   "cell_type": "code",
   "execution_count": 2,
   "id": "4b351aed-25de-4de9-a8ca-c8d5cb460a06",
   "metadata": {},
   "outputs": [],
   "source": [
    "import numpy as np"
   ]
  },
  {
   "cell_type": "code",
   "execution_count": 3,
   "id": "9a17477c-45a1-4803-8adf-98c7dab066f4",
   "metadata": {},
   "outputs": [],
   "source": [
    "arr = np.arange(6)"
   ]
  },
  {
   "cell_type": "code",
   "execution_count": 4,
   "id": "3ff858c6-7c50-4853-993e-150e58ee13e4",
   "metadata": {},
   "outputs": [
    {
     "data": {
      "text/plain": [
       "array([0, 1, 2, 3, 4, 5])"
      ]
     },
     "execution_count": 4,
     "metadata": {},
     "output_type": "execute_result"
    }
   ],
   "source": [
    "arr"
   ]
  }
 ],
 "metadata": {
  "kernelspec": {
   "display_name": "Python 3 (ipykernel)",
   "language": "python",
   "name": "python3"
  },
  "language_info": {
   "codemirror_mode": {
    "name": "ipython",
    "version": 3
   },
   "file_extension": ".py",
   "mimetype": "text/x-python",
   "name": "python",
   "nbconvert_exporter": "python",
   "pygments_lexer": "ipython3",
   "version": "3.12.7"
  }
 },
 "nbformat": 4,
 "nbformat_minor": 5
}
