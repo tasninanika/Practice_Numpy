{
 "cells": [
  {
   "cell_type": "markdown",
   "id": "0086f8ee-81c7-4ecb-b843-b8774063c959",
   "metadata": {},
   "source": [
    "# Perform the following tasks:\n",
    "## Generate a **`vector array of 25`** numbers using **`arange()`**\n",
    "## write a code to convert the vector array into **`2-D matrix using reshape`**"
   ]
  },
  {
   "cell_type": "code",
   "execution_count": 4,
   "id": "88c9d619-16b3-428b-9bfd-0fb9df25430b",
   "metadata": {},
   "outputs": [],
   "source": [
    "import numpy as np"
   ]
  },
  {
   "cell_type": "code",
   "execution_count": 5,
   "id": "846c12c5-2d44-407f-a4ee-9d7b01378f86",
   "metadata": {},
   "outputs": [],
   "source": [
    "vect_array = np.arange(25)"
   ]
  },
  {
   "cell_type": "code",
   "execution_count": 6,
   "id": "f14bbc82-e664-4449-8575-eaff348e1c28",
   "metadata": {},
   "outputs": [
    {
     "data": {
      "text/plain": [
       "array([ 0,  1,  2,  3,  4,  5,  6,  7,  8,  9, 10, 11, 12, 13, 14, 15, 16,\n",
       "       17, 18, 19, 20, 21, 22, 23, 24])"
      ]
     },
     "execution_count": 6,
     "metadata": {},
     "output_type": "execute_result"
    }
   ],
   "source": [
    "vect_array"
   ]
  },
  {
   "cell_type": "code",
   "execution_count": 7,
   "id": "c5aa1ff4-dfc6-42a7-b987-cdf2be928f4f",
   "metadata": {},
   "outputs": [],
   "source": [
    "vectToMatrix = vect_array.reshape(5,5)"
   ]
  },
  {
   "cell_type": "code",
   "execution_count": 8,
   "id": "b49c1f76-591e-420a-8612-52d310ec35eb",
   "metadata": {},
   "outputs": [
    {
     "data": {
      "text/plain": [
       "array([[ 0,  1,  2,  3,  4],\n",
       "       [ 5,  6,  7,  8,  9],\n",
       "       [10, 11, 12, 13, 14],\n",
       "       [15, 16, 17, 18, 19],\n",
       "       [20, 21, 22, 23, 24]])"
      ]
     },
     "execution_count": 8,
     "metadata": {},
     "output_type": "execute_result"
    }
   ],
   "source": [
    "vectToMatrix"
   ]
  },
  {
   "cell_type": "code",
   "execution_count": 9,
   "id": "385dd0c7-279f-4ac7-85df-facb5dbe5476",
   "metadata": {},
   "outputs": [],
   "source": [
    "vect_array.shape = (5,5)"
   ]
  },
  {
   "cell_type": "code",
   "execution_count": 10,
   "id": "672cc64a-85bd-43f2-bd27-6dccb3501e42",
   "metadata": {},
   "outputs": [
    {
     "data": {
      "text/plain": [
       "array([[ 0,  1,  2,  3,  4],\n",
       "       [ 5,  6,  7,  8,  9],\n",
       "       [10, 11, 12, 13, 14],\n",
       "       [15, 16, 17, 18, 19],\n",
       "       [20, 21, 22, 23, 24]])"
      ]
     },
     "execution_count": 10,
     "metadata": {},
     "output_type": "execute_result"
    }
   ],
   "source": [
    "vect_array"
   ]
  }
 ],
 "metadata": {
  "kernelspec": {
   "display_name": "Python 3 (ipykernel)",
   "language": "python",
   "name": "python3"
  },
  "language_info": {
   "codemirror_mode": {
    "name": "ipython",
    "version": 3
   },
   "file_extension": ".py",
   "mimetype": "text/x-python",
   "name": "python",
   "nbconvert_exporter": "python",
   "pygments_lexer": "ipython3",
   "version": "3.12.7"
  }
 },
 "nbformat": 4,
 "nbformat_minor": 5
}
