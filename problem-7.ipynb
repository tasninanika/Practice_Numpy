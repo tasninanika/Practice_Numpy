{
 "cells": [
  {
   "cell_type": "markdown",
   "id": "2d9444f8-9d88-4997-a501-a382d37610c7",
   "metadata": {},
   "source": [
    "# Use `arange()` to generate an array of even numbers between 50 and 100."
   ]
  },
  {
   "cell_type": "code",
   "execution_count": 2,
   "id": "a86c8078-7b25-4f9f-84ec-61409d7fd687",
   "metadata": {},
   "outputs": [],
   "source": [
    "import numpy as np"
   ]
  },
  {
   "cell_type": "code",
   "execution_count": 5,
   "id": "c7bad367-27f1-4e50-b64e-0b7e774aec4b",
   "metadata": {},
   "outputs": [],
   "source": [
    "even_array = np.arange(52, 100, 2)"
   ]
  },
  {
   "cell_type": "code",
   "execution_count": 6,
   "id": "e636dede-48f3-4acd-b3fe-17b08fa10bc6",
   "metadata": {},
   "outputs": [
    {
     "data": {
      "text/plain": [
       "array([52, 54, 56, 58, 60, 62, 64, 66, 68, 70, 72, 74, 76, 78, 80, 82, 84,\n",
       "       86, 88, 90, 92, 94, 96, 98])"
      ]
     },
     "execution_count": 6,
     "metadata": {},
     "output_type": "execute_result"
    }
   ],
   "source": [
    "even_array"
   ]
  }
 ],
 "metadata": {
  "kernelspec": {
   "display_name": "Python 3 (ipykernel)",
   "language": "python",
   "name": "python3"
  },
  "language_info": {
   "codemirror_mode": {
    "name": "ipython",
    "version": 3
   },
   "file_extension": ".py",
   "mimetype": "text/x-python",
   "name": "python",
   "nbconvert_exporter": "python",
   "pygments_lexer": "ipython3",
   "version": "3.12.7"
  }
 },
 "nbformat": 4,
 "nbformat_minor": 5
}
