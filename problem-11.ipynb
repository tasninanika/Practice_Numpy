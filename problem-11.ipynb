{
 "cells": [
  {
   "cell_type": "markdown",
   "id": "03f9cd63-e645-4ad1-a58f-ba86c2596f2b",
   "metadata": {},
   "source": [
    "# Write a code to generate the output below, use \"`linspace()`\" and \"`print()`\"\n",
    "## array([[ 0,  1,  2,  3,  4],\n",
    "##       [ 5,  6,  7,  8,  9],\n",
    "##       [10, 11, 12, 13, 14],\n",
    "##       [15, 16, 17, 18, 19],\n",
    "##       [20, 21, 22, 23, 24]])"
   ]
  },
  {
   "cell_type": "code",
   "execution_count": 1,
   "id": "8c4f10d0-9db2-48b4-8ee3-fc183d87b9f0",
   "metadata": {},
   "outputs": [],
   "source": [
    "import numpy as np"
   ]
  },
  {
   "cell_type": "code",
   "execution_count": 2,
   "id": "8123ef32-fd15-4f18-8351-86469de19d6d",
   "metadata": {},
   "outputs": [
    {
     "data": {
      "text/plain": [
       "array([[ 0,  1,  2,  3,  4],\n",
       "       [ 5,  6,  7,  8,  9],\n",
       "       [10, 11, 12, 13, 14],\n",
       "       [15, 16, 17, 18, 19],\n",
       "       [20, 21, 22, 23, 24]])"
      ]
     },
     "execution_count": 2,
     "metadata": {},
     "output_type": "execute_result"
    }
   ],
   "source": [
    "linSpaceArray = np.linspace(start = 0, stop = 24, num = 25, dtype = int)\n",
    "linSpaceArray.reshape((5,5))"
   ]
  },
  {
   "cell_type": "code",
   "execution_count": 4,
   "id": "9626f70c-45fb-4531-ae53-e648fa99966c",
   "metadata": {},
   "outputs": [
    {
     "data": {
      "text/plain": [
       "array([[ 0,  1,  2,  3,  4],\n",
       "       [ 5,  6,  7,  8,  9],\n",
       "       [10, 11, 12, 13, 14],\n",
       "       [15, 16, 17, 18, 19],\n",
       "       [20, 21, 22, 23, 24]])"
      ]
     },
     "execution_count": 4,
     "metadata": {},
     "output_type": "execute_result"
    }
   ],
   "source": [
    "linSpaceArray.reshape((5,5))"
   ]
  }
 ],
 "metadata": {
  "kernelspec": {
   "display_name": "Python 3 (ipykernel)",
   "language": "python",
   "name": "python3"
  },
  "language_info": {
   "codemirror_mode": {
    "name": "ipython",
    "version": 3
   },
   "file_extension": ".py",
   "mimetype": "text/x-python",
   "name": "python",
   "nbconvert_exporter": "python",
   "pygments_lexer": "ipython3",
   "version": "3.12.7"
  }
 },
 "nbformat": 4,
 "nbformat_minor": 5
}
