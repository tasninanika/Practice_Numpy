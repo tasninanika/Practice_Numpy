{
 "cells": [
  {
   "cell_type": "markdown",
   "id": "20021195-2846-4250-92b0-1a43313cec52",
   "metadata": {},
   "source": [
    "# Please generate the following matrix.\n",
    "## array([[0.1, 0.2, 0.3, 0.4, 0.5],\n",
    "##       [0.6, 0.7, 0.8, 0.9, 1. ],\n",
    "##     [1.1, 1.2, 1.3, 1.4, 1.5],\n",
    "##     [1.6, 1.7, 1.8, 1.9, 2. ],\n",
    "##     [2.1, 2.2, 2.3, 2.4, 2.5]])"
   ]
  },
  {
   "cell_type": "code",
   "execution_count": 3,
   "id": "a6592451-09be-49f6-8518-ff99d17b4102",
   "metadata": {},
   "outputs": [],
   "source": [
    "import numpy as np"
   ]
  },
  {
   "cell_type": "code",
   "execution_count": 4,
   "id": "bb14bee8-c1e6-4e4c-94c3-6c7bcfca6187",
   "metadata": {},
   "outputs": [],
   "source": [
    "pointVector = np.arange(start = 0.1, stop = 2.6, step = 0.1)\n",
    "pointVectorToMatrix = pointVector.reshape(5,5)"
   ]
  },
  {
   "cell_type": "code",
   "execution_count": 5,
   "id": "c072b721-f5f8-41a8-9a83-038be783c928",
   "metadata": {},
   "outputs": [
    {
     "data": {
      "text/plain": [
       "array([[0.1, 0.2, 0.3, 0.4, 0.5],\n",
       "       [0.6, 0.7, 0.8, 0.9, 1. ],\n",
       "       [1.1, 1.2, 1.3, 1.4, 1.5],\n",
       "       [1.6, 1.7, 1.8, 1.9, 2. ],\n",
       "       [2.1, 2.2, 2.3, 2.4, 2.5]])"
      ]
     },
     "execution_count": 5,
     "metadata": {},
     "output_type": "execute_result"
    }
   ],
   "source": [
    "pointVectorToMatrix"
   ]
  }
 ],
 "metadata": {
  "kernelspec": {
   "display_name": "Python 3 (ipykernel)",
   "language": "python",
   "name": "python3"
  },
  "language_info": {
   "codemirror_mode": {
    "name": "ipython",
    "version": 3
   },
   "file_extension": ".py",
   "mimetype": "text/x-python",
   "name": "python",
   "nbconvert_exporter": "python",
   "pygments_lexer": "ipython3",
   "version": "3.12.7"
  }
 },
 "nbformat": 4,
 "nbformat_minor": 5
}
