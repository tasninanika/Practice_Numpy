{
 "cells": [
  {
   "cell_type": "markdown",
   "id": "cdc49a3c-e85b-4bbd-a765-70e02cd82921",
   "metadata": {},
   "source": [
    "# How to import Numpy library?\n"
   ]
  },
  {
   "cell_type": "code",
   "execution_count": 1,
   "id": "3b9526e9-e128-418a-b075-7a7458ec3f37",
   "metadata": {},
   "outputs": [],
   "source": [
    "import numpy as np"
   ]
  },
  {
   "cell_type": "code",
   "execution_count": 18,
   "id": "defe8f22-1bfd-41e3-b698-add97e4c5808",
   "metadata": {},
   "outputs": [
    {
     "data": {
      "text/plain": [
       "'2.2.1'"
      ]
     },
     "execution_count": 18,
     "metadata": {},
     "output_type": "execute_result"
    }
   ],
   "source": [
    "np.__version__"
   ]
  },
  {
   "cell_type": "markdown",
   "id": "e6506212-5911-410e-9071-c70a936089c9",
   "metadata": {},
   "source": [
    "# Convert the given Python list into Numpy array and check its data type.\n",
    "# list_1 = [1,2,3,4,5]"
   ]
  },
  {
   "cell_type": "code",
   "execution_count": 14,
   "id": "22236b3b-35a6-4d84-a49c-58c1284036e3",
   "metadata": {},
   "outputs": [],
   "source": [
    "list_1 = [1,2,3,4,5]"
   ]
  },
  {
   "cell_type": "code",
   "execution_count": 15,
   "id": "144855af-edd7-4111-bdbb-8b9da0cfeec0",
   "metadata": {},
   "outputs": [],
   "source": [
    "list_2 = np.array(list_1)"
   ]
  },
  {
   "cell_type": "code",
   "execution_count": 17,
   "id": "f67eeb09-cc51-4e4d-9eda-45d1c99da232",
   "metadata": {},
   "outputs": [
    {
     "data": {
      "text/plain": [
       "array([1, 2, 3, 4, 5])"
      ]
     },
     "execution_count": 17,
     "metadata": {},
     "output_type": "execute_result"
    }
   ],
   "source": [
    "list_2"
   ]
  },
  {
   "cell_type": "code",
   "execution_count": 19,
   "id": "375a0401-a070-493f-9ddf-d14228887f34",
   "metadata": {},
   "outputs": [
    {
     "data": {
      "text/plain": [
       "numpy.ndarray"
      ]
     },
     "execution_count": 19,
     "metadata": {},
     "output_type": "execute_result"
    }
   ],
   "source": [
    "type(list_2)"
   ]
  }
 ],
 "metadata": {
  "kernelspec": {
   "display_name": "Python 3 (ipykernel)",
   "language": "python",
   "name": "python3"
  },
  "language_info": {
   "codemirror_mode": {
    "name": "ipython",
    "version": 3
   },
   "file_extension": ".py",
   "mimetype": "text/x-python",
   "name": "python",
   "nbconvert_exporter": "python",
   "pygments_lexer": "ipython3",
   "version": "3.12.7"
  }
 },
 "nbformat": 4,
 "nbformat_minor": 5
}
